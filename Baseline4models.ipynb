{
 "cells": [
  {
   "cell_type": "markdown",
   "id": "ec9ea621",
   "metadata": {},
   "source": [
    "# Baseline Model"
   ]
  },
  {
   "cell_type": "markdown",
   "id": "87f56e05",
   "metadata": {},
   "source": [
    "## Imports"
   ]
  },
  {
   "cell_type": "code",
   "execution_count": null,
   "id": "365b4708",
   "metadata": {},
   "outputs": [],
   "source": [
    "import torch\n",
    "import torch.nn as nn\n",
    "import torch.nn.functional as F\n",
    "import torch.optim as optim\n",
    "from torch.utils.data import Dataset\n",
    "from torch.utils.data import DataLoader\n",
    "import pandas as pd\n",
    "\n",
    "import transformers\n",
    "from transformers import BertTokenizer\n",
    "from transformers import BertForSequenceClassification\n",
    "from transformers import DataCollatorWithPadding\n",
    "\n",
    "torch.manual_seed(1)\n",
    "print(transformers.__version__)"
   ]
  },
  {
   "cell_type": "markdown",
   "id": "62b6f0e1",
   "metadata": {},
   "source": [
    "## Data Loader"
   ]
  },
  {
   "cell_type": "code",
   "execution_count": null,
   "id": "39840b6b",
   "metadata": {},
   "outputs": [],
   "source": [
    "# Define default Tokenizer\n",
    "defaultTokenizer = BertTokenizer.from_pretrained(\"bert-base-uncased\")\n",
    "# Parameters: Path to dataset csv, tokenizer object, maximum token length\n",
    "# Label_id is a number 0-4, indicate which set of EI/SN/TF/JP will be the label\n",
    "class Dset(Dataset):\n",
    "    # Constructor\n",
    "    def __init__(self, path, label_id, tokenizer=defaultTokenizer, max_token_len=500):\n",
    "        # Initialize some variables\n",
    "        self.df = pd.read_csv(path).dropna()\n",
    "        self.label_id = label_id\n",
    "        self.tokenizer = tokenizer\n",
    "        self.max_token_len = max_token_len\n",
    "        \n",
    "        # in order to convert MBTI labels into numbers\n",
    "        self.labelstrdicts={1:\"ESTJ\", 0:\"INFP\"}\n",
    "    \n",
    "    # Override __len__ \n",
    "    def __len__(self):\n",
    "        return len(self.df)\n",
    "    \n",
    "    # Override __getitem__\n",
    "    def __getitem__(self, index):\n",
    "        # get dataframe row\n",
    "        item = self.df.iloc[index]\n",
    "        # get the text and label from dataframe row\n",
    "        text = item[\"post\"]\n",
    "        ptype = item[\"type\"] # Personality Type\n",
    "        # and for labels, turn them into list of numbers (1/0s)\n",
    "        labels = self.str2label(ptype)[self.label_id]\n",
    "        \n",
    "        # Now try tokenize with the BERT Tokenizer\n",
    "        try:\n",
    "          tokens=self.tokenizer(text,return_tensors=\"pt\", truncation=True, max_length=self.max_token_len, padding=\"max_length\")\n",
    "            # return_tensors -> Return \"pt\" pytorch \"torch.Tensor\" objects instead of python int list\n",
    "            # truncation -> \"true\": Truncate to maximum length specified with argument \"max_length\"\n",
    "            # padding -> \"max_length\": Pad to a maximum length specified witht eh argument \"max_length\" \n",
    "        except:\n",
    "          print(text)\n",
    "          quit()\n",
    "        return {\"input_ids\": torch.squeeze(tokens.input_ids), \\\n",
    "                \"attention_mask\":torch.squeeze(tokens.attention_mask), \\\n",
    "                \"labels\":labels}\n",
    "    \n",
    "    # Auxiliary Functions\n",
    "    def str2label(self, string):\n",
    "        label=[]\n",
    "        for letter in string:\n",
    "            if letter in \"ESTJ\":\n",
    "                label.append(1)\n",
    "            else:\n",
    "                label.append(0)\n",
    "        return label\n",
    "    def label2str(self, label):\n",
    "        string=[]\n",
    "        for index,number in enumerate(label):\n",
    "            string.append(self.labelstrdicts[number][index])\n",
    "        return string\n",
    "        "
   ]
  },
  {
   "cell_type": "code",
   "execution_count": null,
   "id": "a477dd00",
   "metadata": {},
   "outputs": [],
   "source": [
    "# Function to automatically split and return train/validation/test dataset object\n",
    "data_collator=DataCollatorWithPadding(tokenizer=defaultTokenizer)\n",
    "def getdl(ds, batch_size):\n",
    "    total_len=len(ds)\n",
    "    train_len=int(len(ds)*0.8)\n",
    "    val_len=int((total_len-train_len)/2)\n",
    "    test_len=total_len-train_len-val_len\n",
    "    [train_ds, val_ds, test_ds]=torch.utils.data.random_split(ds, [train_len, val_len, test_len])\n",
    "    #return (training dataloader, validation dataloader, test dataloader)\n",
    "    return DataLoader(train_ds, batch_size=batch_size, shuffle=False, collate_fn=data_collator),\\\n",
    "        DataLoader(val_ds, batch_size=batch_size, shuffle=False, collate_fn=data_collator),\\\n",
    "        DataLoader(test_ds, batch_size=batch_size, shuffle=False, collate_fn=data_collator)"
   ]
  },
  {
   "cell_type": "code",
   "execution_count": null,
   "id": "b98462f5",
   "metadata": {},
   "outputs": [],
   "source": [
    "# Now getting all three datasets at once\n",
    "path=\"./dataset2.csv\"\n",
    "dataset_EI_all=Dset(path, 0) # use default tokenizer\n",
    "dataset_SN_all=Dset(path, 1)\n",
    "dataset_TF_all=Dset(path, 2)\n",
    "dataset_JP_all=Dset(path, 3)\n",
    "# Split into three dataloaders\n",
    "train_dl_EI, val_dl_EI, test_dl_EI=getdl(dataset_EI_all, batch_size=50)\n",
    "train_dl_SN, val_dl_SN, test_dl_SN=getdl(dataset_SN_all, batch_size=50)\n",
    "train_dl_TF, val_dl_TF, test_dl_TF=getdl(dataset_TF_all, batch_size=50)\n",
    "train_dl_JP, val_dl_JP, test_dl_JP=getdl(dataset_JP_all, batch_size=50)"
   ]
  },
  {
   "cell_type": "code",
   "execution_count": null,
   "id": "9f3f84b3",
   "metadata": {},
   "outputs": [],
   "source": [
    "# Test Print\n",
    "for i,batch in enumerate(train_dl_EI):\n",
    "    print(batch[\"input_ids\"].shape)\n",
    "    print(batch[\"input_ids\"])\n",
    "    print(batch[\"labels\"])\n",
    "    break"
   ]
  },
  {
   "cell_type": "markdown",
   "id": "ad89a108",
   "metadata": {},
   "source": [
    "## Model(s)"
   ]
  },
  {
   "cell_type": "code",
   "execution_count": null,
   "id": "a7c15634",
   "metadata": {},
   "outputs": [],
   "source": [
    "class BaselineModel(nn.Module):\n",
    "    def __init__(self):\n",
    "        pass"
   ]
  },
  {
   "cell_type": "code",
   "execution_count": null,
   "id": "6f7fda59",
   "metadata": {},
   "outputs": [],
   "source": [
    "baselineModel_EI = BertForSequenceClassification.from_pretrained(\n",
    "    'bert-base-uncased',\n",
    "    num_labels = 2,\n",
    "    output_attentions = False,\n",
    "    output_hidden_states = False,\n",
    "    return_dict=False\n",
    ")\n",
    "baselineModel_SN = BertForSequenceClassification.from_pretrained(\n",
    "    'bert-base-uncased',\n",
    "    num_labels = 2,\n",
    "    output_attentions = False,\n",
    "    output_hidden_states = False,\n",
    "    return_dict=False\n",
    ")\n",
    "baselineModel_TF = BertForSequenceClassification.from_pretrained(\n",
    "    'bert-base-uncased',\n",
    "    num_labels = 2,\n",
    "    output_attentions = False,\n",
    "    output_hidden_states = False,\n",
    "    return_dict=False\n",
    ")\n",
    "baselineModel_JP = BertForSequenceClassification.from_pretrained(\n",
    "    'bert-base-uncased',\n",
    "    num_labels = 2,\n",
    "    output_attentions = False,\n",
    "    output_hidden_states = False,\n",
    "    return_dict=False\n",
    ")"
   ]
  },
  {
   "cell_type": "code",
   "execution_count": null,
   "id": "f1c78168",
   "metadata": {},
   "outputs": [],
   "source": [
    "# Inspect Model Structure\n",
    "baselineModel_EI.modules"
   ]
  },
  {
   "cell_type": "markdown",
   "id": "26204a5e",
   "metadata": {},
   "source": [
    "## Loss and Optimizer (moved to training function)"
   ]
  },
  {
   "cell_type": "code",
   "execution_count": null,
   "id": "d4e4d6bf",
   "metadata": {},
   "outputs": [],
   "source": [
    "# Loss\n",
    "#criterion = nn.CrossEntropyLoss()\n",
    "# Optimizer\n",
    "#optimizer = optim.Adam(baselineModel.parameters(), lr=1e-5)\n",
    "# Scheduler\n",
    "#scheduler = optim.lr_scheduler.CosineAnnealingWarmRestarts(optimizer,T_0=500, eta_min=1e-6)"
   ]
  },
  {
   "cell_type": "markdown",
   "id": "c944672d",
   "metadata": {},
   "source": [
    "## Evaluation Metrics"
   ]
  },
  {
   "cell_type": "code",
   "execution_count": null,
   "id": "fe9053aa",
   "metadata": {},
   "outputs": [],
   "source": [
    "def b_tp(preds, labels):\n",
    "  '''Returns True Positives (TP): count of correct predictions of actual class 1'''\n",
    "  return sum([preds == labels and preds == 1 for preds, labels in zip(preds, labels)])\n",
    "\n",
    "def b_fp(preds, labels):\n",
    "  '''Returns False Positives (FP): count of wrong predictions of actual class 1'''\n",
    "  return sum([preds != labels and preds == 1 for preds, labels in zip(preds, labels)])\n",
    "\n",
    "def b_tn(preds, labels):\n",
    "  '''Returns True Negatives (TN): count of correct predictions of actual class 0'''\n",
    "  return sum([preds == labels and preds == 0 for preds, labels in zip(preds, labels)])\n",
    "\n",
    "def b_fn(preds, labels):\n",
    "  '''Returns False Negatives (FN): count of wrong predictions of actual class 0'''\n",
    "  return sum([preds != labels and preds == 0 for preds, labels in zip(preds, labels)])\n",
    "\n",
    "def b_metrics(preds, labels):\n",
    "  '''\n",
    "  Returns the following metrics:\n",
    "    - accuracy    = (TP + TN) / N\n",
    "    - precision   = TP / (TP + FP)\n",
    "    - recall      = TP / (TP + FN)\n",
    "    - specificity = TN / (TN + FP)\n",
    "  '''\n",
    "  preds = np.argmax(preds, axis = 1).flatten()\n",
    "  labels = labels.flatten()\n",
    "  tp = b_tp(preds, labels)\n",
    "  tn = b_tn(preds, labels)\n",
    "  fp = b_fp(preds, labels)\n",
    "  fn = b_fn(preds, labels)\n",
    "  b_accuracy = (tp + tn) / len(labels)\n",
    "  b_precision = tp / (tp + fp) if (tp + fp) > 0 else 'nan'\n",
    "  b_recall = tp / (tp + fn) if (tp + fn) > 0 else 'nan'\n",
    "  b_specificity = tn / (tn + fp) if (tn + fp) > 0 else 'nan'\n",
    "  return b_accuracy, b_precision, b_recall, b_specificity"
   ]
  },
  {
   "cell_type": "markdown",
   "id": "98c8f052",
   "metadata": {},
   "source": [
    "## Training"
   ]
  },
  {
   "cell_type": "code",
   "execution_count": null,
   "id": "89500b15",
   "metadata": {},
   "outputs": [],
   "source": [
    "def train(train_ds, eval_ds, model, epochs):\n",
    "    dev = \"mps:0\"\n",
    "    device = torch.device(dev)\n",
    "    \n",
    "    # Loss\n",
    "    criterion = nn.CrossEntropyLoss()\n",
    "    # Optimizer\n",
    "    optimizer = optim.Adam(model.parameters(), lr=1e-5)\n",
    "    # Scheduler\n",
    "    scheduler = optim.lr_scheduler.CosineAnnealingWarmRestarts(optimizer,T_0=500, eta_min=1e-6)\n",
    "    \n",
    "    # Setup on GPU\n",
    "    model = model.to(device)\n",
    "    criterion = criterion.to(device)\n",
    "    \n",
    "    for e in range(1, epochs+1):\n",
    "        print(f'Epoch: {e}')\n",
    "        # Set model to training mode\n",
    "        model.train()\n",
    "        \n",
    "        # Tracking variables\n",
    "        tr_loss = 0 # Training Loss\n",
    "        nb_tr_examples = 0 # number of training examples\n",
    "        nb_tr_steps = 0 # number of training examples\n",
    "        \n",
    "        for step, batch in enumerate(train_ds):\n",
    "            #batch = tuple(t.to(device) for t in batch)\n",
    "            batch.to(device)\n",
    "            b_input_ids = batch[\"input_ids\"]\n",
    "            b_input_mask = batch[\"attention_mask\"]\n",
    "            b_labels = batch[\"labels\"]\n",
    "            optimizer.zero_grad()\n",
    "            # Forward Pass\n",
    "            train_output = model(b_input_ids, \n",
    "                                 token_type_ids = None,\n",
    "                                 attention_mask = b_input_mask, \n",
    "                                 labels = b_labels)\n",
    "\n",
    "            # Backward Pass\n",
    "            bloss = criterion(train_output[1], b_labels)\n",
    "            bloss.backward()\n",
    "            #train_output.loss.backward()\n",
    "            optimizer.step()\n",
    "            scheduler.step()\n",
    "            \n",
    "            # Update Tracking variables\n",
    "            #tr_loss += train_output.loss.item()\n",
    "            tr_loss += bloss.item()\n",
    "            nb_tr_examples += b_input_ids.size(0)\n",
    "            nb_tr_steps += 1\n",
    "        \n",
    "        # Validation ==================================\n",
    "        \n",
    "        # Set model to evaluation mode\n",
    "        model.eval()\n",
    "        # Tracking variables\n",
    "        val_accuracy = []\n",
    "        val_precision = []\n",
    "        val_recall = []\n",
    "        val_specificity = []\n",
    "        \n",
    "        for batch in validation_dataloader:\n",
    "            #batch = tuple(t.to(device) for t in batch)\n",
    "            batch.to(device)\n",
    "            b_input_ids = batch[\"input_ids\"]\n",
    "            b_input_mask = batch[\"attention_mask\"]\n",
    "            b_labels = batch[\"labels\"]\n",
    "            with torch.no_grad():\n",
    "                # Forward Pass\n",
    "                eval_output = model(b_input_ids, \n",
    "                                 token_type_ids = None,\n",
    "                                 attention_mask = b_input_mask)\n",
    "            logits = eval_output.logits.detatch().cpu().numpy()\n",
    "            label_ids = b_labels.to('cpu').numpy()\n",
    "            \n",
    "            # Calculate Validation metrics\n",
    "            b_accuracy, b_precision, b_recall, b_specificity = b_metrics(logits, label_ids)\n",
    "            val_accuracy.append(b_accuracy)\n",
    "            # Update the rest tracking variables only when not zero ('nan')\n",
    "            if b_precision != 'nan': val_precision.append(b_precision)\n",
    "            if b_recall != 'nan': val_recall.append(b_recall)\n",
    "            if b_specificity != 'nan': val_specificity.append(b_specificity)\n",
    "        print('\\n\\t - Train loss: {:.4f}'.format(tr_loss / nb_tr_steps))\n",
    "        print('\\t - Validation Accuracy: {:.4f}'.format(sum(val_accuracy)/len(val_accuracy)))\n",
    "        print('\\t - Validation Precision: {:.4f}'.format(sum(val_precision)/len(val_precision)) if len(val_precision)>0 else '\\t - Validation Precision: NaN')\n",
    "        print('\\t - Validation Recall: {:.4f}'.format(sum(val_recall)/len(val_recall)) if len(val_recall)>0 else '\\t - Validation Recall: NaN')\n",
    "        print('\\t - Validation Specificity: {:.4f}\\n'.format(sum(val_specificity)/len(val_specificity)) if len(val_specificity)>0 else '\\t - Validation Specificity: NaN')\n",
    "        "
   ]
  },
  {
   "cell_type": "code",
   "execution_count": null,
   "id": "08c9dd96",
   "metadata": {},
   "outputs": [],
   "source": [
    "# Execute Training:\n",
    "epochs = 5\n",
    "train(train_dl_EI, val_dl_EI, baselineModel_EI, epochs)"
   ]
  },
  {
   "cell_type": "code",
   "execution_count": null,
   "id": "95c4ec34",
   "metadata": {},
   "outputs": [],
   "source": [
    "# Execute Training:\n",
    "epochs = 5\n",
    "train(train_dl_SN, val_dl_SN, baselineModel_SN, epochs)"
   ]
  },
  {
   "cell_type": "code",
   "execution_count": null,
   "id": "fa22f84b",
   "metadata": {},
   "outputs": [],
   "source": [
    "# Execute Training:\n",
    "epochs = 5\n",
    "train(train_dl_TF, val_dl_TF, baselineModel_TF, epochs)"
   ]
  },
  {
   "cell_type": "code",
   "execution_count": null,
   "id": "c886283f",
   "metadata": {},
   "outputs": [],
   "source": [
    "# Execute Training:\n",
    "epochs = 5\n",
    "train(train_dl_JP, eval_dl_JP, baselineModel_JP, epochs)"
   ]
  }
 ],
 "metadata": {
  "kernelspec": {
   "display_name": "Python 3 (ipykernel)",
   "language": "python",
   "name": "python3"
  },
  "language_info": {
   "codemirror_mode": {
    "name": "ipython",
    "version": 3
   },
   "file_extension": ".py",
   "mimetype": "text/x-python",
   "name": "python",
   "nbconvert_exporter": "python",
   "pygments_lexer": "ipython3",
   "version": "3.9.13"
  }
 },
 "nbformat": 4,
 "nbformat_minor": 5
}

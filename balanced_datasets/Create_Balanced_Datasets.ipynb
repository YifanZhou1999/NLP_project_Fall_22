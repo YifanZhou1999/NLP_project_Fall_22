{
 "cells": [
  {
   "cell_type": "code",
   "execution_count": 11,
   "id": "e060df5d",
   "metadata": {},
   "outputs": [],
   "source": [
    "import pandas as pd"
   ]
  },
  {
   "cell_type": "code",
   "execution_count": 15,
   "id": "b16be4e7",
   "metadata": {},
   "outputs": [],
   "source": [
    "dataf = pd.read_csv(\"dataset2dropna.csv\")"
   ]
  },
  {
   "cell_type": "code",
   "execution_count": 16,
   "id": "f904d671",
   "metadata": {},
   "outputs": [
    {
     "name": "stdout",
     "output_type": "stream",
     "text": [
      "303868 342438 214704 157214 92655 54085 181819 239309\n"
     ]
    }
   ],
   "source": [
    "Icount = 0\n",
    "Ncount = 0\n",
    "Fcount = 0\n",
    "Jcount = 0\n",
    "Ecount = 0\n",
    "Scount = 0\n",
    "Tcount = 0\n",
    "Pcount = 0\n",
    "for i in dataf[\"type\"]:\n",
    "    if \"I\" in i:\n",
    "        Icount += 1\n",
    "    if \"N\" in i:\n",
    "        Ncount += 1\n",
    "    if \"F\" in i:\n",
    "        Fcount += 1\n",
    "    if \"J\" in i:\n",
    "        Jcount += 1\n",
    "    if \"E\" in i:\n",
    "        Ecount += 1\n",
    "    if \"S\" in i:\n",
    "        Scount += 1\n",
    "    if \"T\" in i:\n",
    "        Tcount += 1\n",
    "    if \"P\" in i:\n",
    "        Pcount += 1\n",
    "total = len(dataf[\"type\"])\n",
    "print(Icount, Ncount, Fcount, Jcount, Ecount, Scount, Tcount, Pcount)"
   ]
  },
  {
   "cell_type": "code",
   "execution_count": 17,
   "id": "d6064dc1",
   "metadata": {},
   "outputs": [
    {
     "name": "stdout",
     "output_type": "stream",
     "text": [
      "396523\n"
     ]
    }
   ],
   "source": [
    "print(total)"
   ]
  },
  {
   "cell_type": "code",
   "execution_count": 9,
   "id": "27257a81",
   "metadata": {},
   "outputs": [
    {
     "name": "stdout",
     "output_type": "stream",
     "text": [
      "314428\n",
      "314428\n",
      "314428\n",
      "157214 157214\n"
     ]
    }
   ],
   "source": [
    "Balanced_EI_posts = []\n",
    "Balanced_EI_labels = []\n",
    "Enum = 0\n",
    "Inum = 0\n",
    "for i in range(len(dataf[\"type\"])):\n",
    "    try:\n",
    "        if \"J\" in dataf[\"type\"][i] and Inum < Jcount:\n",
    "            Balanced_EI_posts.append(dataf[\"post\"][i])\n",
    "            Balanced_EI_labels.append(dataf[\"type\"][i])\n",
    "            Inum+=1\n",
    "        if \"P\" in dataf[\"type\"][i] and Enum < Jcount:\n",
    "            Balanced_EI_posts.append(dataf[\"post\"][i])\n",
    "            Balanced_EI_labels.append(dataf[\"type\"][i])\n",
    "            Enum+=1\n",
    "    except:\n",
    "        continue\n",
    "print(len(Balanced_EI_posts))\n",
    "print(len(Balanced_EI_labels))\n",
    "print(Jcount*2)\n",
    "print(Enum, Inum)"
   ]
  },
  {
   "cell_type": "code",
   "execution_count": 10,
   "id": "658a9501",
   "metadata": {},
   "outputs": [],
   "source": [
    "d = {'type': Balanced_EI_labels, 'post': Balanced_EI_posts}\n",
    "new = pd.DataFrame(data=d)\n",
    "new.to_csv(\"balanced_EI_dataset.csv\")"
   ]
  }
 ],
 "metadata": {
  "kernelspec": {
   "display_name": "Python 3 (ipykernel)",
   "language": "python",
   "name": "python3"
  },
  "language_info": {
   "codemirror_mode": {
    "name": "ipython",
    "version": 3
   },
   "file_extension": ".py",
   "mimetype": "text/x-python",
   "name": "python",
   "nbconvert_exporter": "python",
   "pygments_lexer": "ipython3",
   "version": "3.9.13"
  }
 },
 "nbformat": 4,
 "nbformat_minor": 5
}

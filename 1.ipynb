{
 "cells": [
  {
   "cell_type": "code",
   "execution_count": 1,
   "metadata": {},
   "outputs": [],
   "source": [
    "import numpy as np \n",
    "import pandas as pd \n",
    "import torch\n",
    "from transformers import BertTokenizer\n",
    "from transformers import BertForSequenceClassification\n",
    "from torch.utils.data import Dataset\n",
    "from torch.utils.data import DataLoader\n",
    "from transformers import DataCollatorWithPadding"
   ]
  },
  {
   "cell_type": "code",
   "execution_count": 12,
   "metadata": {},
   "outputs": [],
   "source": [
    "train_path=\"MBTI 500.csv\""
   ]
  },
  {
   "cell_type": "code",
   "execution_count": 8,
   "metadata": {},
   "outputs": [
    {
     "name": "stderr",
     "output_type": "stream",
     "text": [
      "Downloading: 100%|██████████| 440M/440M [00:10<00:00, 43.3MB/s] \n",
      "Some weights of the model checkpoint at bert-base-uncased were not used when initializing BertForSequenceClassification: ['cls.predictions.transform.LayerNorm.weight', 'cls.predictions.transform.LayerNorm.bias', 'cls.predictions.transform.dense.weight', 'cls.predictions.bias', 'cls.predictions.decoder.weight', 'cls.seq_relationship.weight', 'cls.seq_relationship.bias', 'cls.predictions.transform.dense.bias']\n",
      "- This IS expected if you are initializing BertForSequenceClassification from the checkpoint of a model trained on another task or with another architecture (e.g. initializing a BertForSequenceClassification model from a BertForPreTraining model).\n",
      "- This IS NOT expected if you are initializing BertForSequenceClassification from the checkpoint of a model that you expect to be exactly identical (initializing a BertForSequenceClassification model from a BertForSequenceClassification model).\n",
      "Some weights of BertForSequenceClassification were not initialized from the model checkpoint at bert-base-uncased and are newly initialized: ['classifier.weight', 'classifier.bias']\n",
      "You should probably TRAIN this model on a down-stream task to be able to use it for predictions and inference.\n"
     ]
    }
   ],
   "source": [
    "tokenizer=BertTokenizer.from_pretrained(\"bert-base-uncased\")\n",
    "model = BertForSequenceClassification.from_pretrained(\"bert-base-uncased\", num_labels=4)"
   ]
  },
  {
   "cell_type": "code",
   "execution_count": 14,
   "metadata": {},
   "outputs": [],
   "source": [
    "#the dataset class for the first dataset, tokenized, and labeled\n",
    "class Ds1(Dataset):\n",
    "    def __init__(self, path, tokenizer, max_token_len=500):\n",
    "        self.df = pd.read_csv(path)\n",
    "        self.tokenizer=tokenizer\n",
    "        self.max_token_len=max_token_len\n",
    "        self.labelstrdicts={1:\"ESTJ\", 0:\"INFP\"}\n",
    "    def __len__(self):\n",
    "        return (len(self.df))\n",
    "    def __getitem__(self, index):\n",
    "        item=self.df.iloc[index]\n",
    "        text=item[\"posts\"]\n",
    "        type=item[\"type\"]\n",
    "        labels=self.str2label(type)\n",
    "        tokens=self.tokenizer(text,return_tensors=\"pt\", truncation=True, max_length=self.max_token_len, padding=\"max_length\")\n",
    "        return {\"input_ids\": torch.squeeze(tokens.input_ids), \"attention_mask\":torch.squeeze(tokens.attention_mask), \"labels\":labels}\n",
    "    def str2label(self, string):\n",
    "        label=[]\n",
    "        for letter in string:\n",
    "            if letter in \"ESTJ\":\n",
    "                label.append(1)\n",
    "            else:\n",
    "                label.append(0)\n",
    "        return label\n",
    "    def label2str(self, label):\n",
    "        string=[]\n",
    "        for index,number in enumerate(label):\n",
    "            string.append(self.labelstrdicts[number][index])\n",
    "        return string\n"
   ]
  },
  {
   "cell_type": "code",
   "execution_count": 15,
   "metadata": {},
   "outputs": [],
   "source": [
    "dataset=Ds1(train_path, tokenizer)\n",
    "#print(dataset[0])"
   ]
  },
  {
   "cell_type": "code",
   "execution_count": 31,
   "metadata": {},
   "outputs": [],
   "source": [
    "data_collator=DataCollatorWithPadding(tokenizer=tokenizer)\n",
    "def getdl(ds):\n",
    "    total_len=len(ds)\n",
    "    train_len=int(len(ds)*0.8)\n",
    "    val_len=int((total_len-train_len)/2)\n",
    "    test_len=total_len-train_len-val_len\n",
    "    [train_ds, val_ds, test_ds]=torch.utils.data.random_split(ds, [train_len, val_len, test_len])\n",
    "    #return (training dataloader, validation dataloader, test dataloader)\n",
    "    return DataLoader(train_ds, batch_size=10, shuffle=True, collate_fn=data_collator), DataLoader(val_ds, batch_size=10, shuffle=False, collate_fn=data_collator), DataLoader(test_ds, batch_size=10, shuffle=False, collate_fn=data_collator)\n"
   ]
  },
  {
   "cell_type": "code",
   "execution_count": 32,
   "metadata": {},
   "outputs": [],
   "source": [
    "train_dl, val_dl, test_dl=getdl(dataset)"
   ]
  }
 ],
 "metadata": {
  "kernelspec": {
   "display_name": "Python 3.9.6 64-bit",
   "language": "python",
   "name": "python3"
  },
  "language_info": {
   "codemirror_mode": {
    "name": "ipython",
    "version": 3
   },
   "file_extension": ".py",
   "mimetype": "text/x-python",
   "name": "python",
   "nbconvert_exporter": "python",
   "pygments_lexer": "ipython3",
   "version": "3.9.6"
  },
  "orig_nbformat": 4,
  "vscode": {
   "interpreter": {
    "hash": "47e86d731e077963188d400b641a1f5cee6401b89b8a1175acb1a082248e2517"
   }
  }
 },
 "nbformat": 4,
 "nbformat_minor": 2
}
